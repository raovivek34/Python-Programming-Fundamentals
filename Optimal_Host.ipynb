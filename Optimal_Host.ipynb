{
 "cells": [
  {
   "cell_type": "code",
   "execution_count": 1,
   "metadata": {},
   "outputs": [],
   "source": [
    "friends = [{'name':'Bob', 'location':(5,2,10)},{'name':'Vivek', 'location':(4,1,6)},{'name':'David', 'location':(2,3,5)},{'name':'Mary', 'location':(19,3,4)},{'name':'Skyler', 'location':(3,5,1)}]\n"
   ]
  },
  {
   "cell_type": "code",
   "execution_count": 2,
   "metadata": {},
   "outputs": [],
   "source": [
    "def optimal_host(friends):\n",
    "    location=[]\n",
    "    distances=[]\n",
    "    length_dict = len(friends)\n",
    "    \n",
    "    for i in friends:\n",
    "        location.append(i['location'])\n",
    "        i['distances']=[]\n",
    "    \n",
    "    from math import sqrt\n",
    "    for i in range(length_dict):\n",
    "        for j in range(i+1,length_dict):\n",
    "            distance = sqrt(((location[i][0]-location[j][0])**2)+((location[i][1]-location[j][1])**2)+((location[i][2]-location[j][2])**2))\n",
    "            friends[i]['distances'].append(distance)\n",
    "            friends[j]['distances'].append(distance)\n",
    "        \n",
    "    for i in friends:\n",
    "        distances.append(i['distances'])\n",
    "    \n",
    "    for i in range(length_dict):\n",
    "        distances[i]=sum(distances[i])\n",
    "        \n",
    "    return friends[(distances.index(min(distances)))]['name']"
   ]
  },
  {
   "cell_type": "code",
   "execution_count": 3,
   "metadata": {},
   "outputs": [
    {
     "data": {
      "text/plain": [
       "'Vivek'"
      ]
     },
     "execution_count": 3,
     "metadata": {},
     "output_type": "execute_result"
    }
   ],
   "source": [
    "optimal_host(friends)"
   ]
  },
  {
   "cell_type": "code",
   "execution_count": null,
   "metadata": {},
   "outputs": [],
   "source": [
    "\n",
    "        \n"
   ]
  },
  {
   "cell_type": "code",
   "execution_count": null,
   "metadata": {},
   "outputs": [],
   "source": []
  },
  {
   "cell_type": "code",
   "execution_count": null,
   "metadata": {},
   "outputs": [],
   "source": []
  },
  {
   "cell_type": "code",
   "execution_count": null,
   "metadata": {},
   "outputs": [],
   "source": []
  }
 ],
 "metadata": {
  "kernelspec": {
   "display_name": "Python 3",
   "language": "python",
   "name": "python3"
  },
  "language_info": {
   "codemirror_mode": {
    "name": "ipython",
    "version": 3
   },
   "file_extension": ".py",
   "mimetype": "text/x-python",
   "name": "python",
   "nbconvert_exporter": "python",
   "pygments_lexer": "ipython3",
   "version": "3.7.3"
  }
 },
 "nbformat": 4,
 "nbformat_minor": 2
}
